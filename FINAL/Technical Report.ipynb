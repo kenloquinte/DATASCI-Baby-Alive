{
 "cells": [
  {
   "cell_type": "markdown",
   "metadata": {},
   "source": [
    "# DATASCI Final Project Title"
   ]
  },
  {
   "cell_type": "markdown",
   "metadata": {},
   "source": [
    "Group: Baby Alive!\n",
    "\n",
    "Members:\n",
    "    Benedictos,\n",
    "    Loquinte,\n",
    "    Marasigan,\n",
    "    Masilang,\n",
    "    Tejada"
   ]
  },
  {
   "cell_type": "code",
   "execution_count": 1,
   "metadata": {},
   "outputs": [
    {
     "name": "stdout",
     "output_type": "stream",
     "text": [
      "Populating the interactive namespace from numpy and matplotlib\n"
     ]
    }
   ],
   "source": [
    "import os\n",
    "import math\n",
    "import pandas as pd\n",
    "import numpy as np\n",
    "import matplotlib.pyplot as plt\n",
    "import seaborn as sns\n",
    "\n",
    "from scipy.stats import zscore\n",
    "\n",
    "%pylab inline"
   ]
  },
  {
   "cell_type": "markdown",
   "metadata": {},
   "source": [
    "### Musixmatch API Library"
   ]
  },
  {
   "cell_type": "markdown",
   "metadata": {},
   "source": [
    "- describe API Library"
   ]
  },
  {
   "cell_type": "markdown",
   "metadata": {},
   "source": [
    "### Azapi"
   ]
  },
  {
   "cell_type": "markdown",
   "metadata": {},
   "source": [
    "Azapi is an API by Khaled ElMorshedy (https://github.com/elmoiv) for AZLyrics.com to get the lyrics of a song. This will be used by the researchers to collect the complete lyrics of the songs the researchers got from the Musixmatch API. Azapi can be accessed through the link https://github.com/elmoiv/azapi"
   ]
  },
  {
   "cell_type": "code",
   "execution_count": 4,
   "metadata": {},
   "outputs": [],
   "source": [
    "#code here"
   ]
  },
  {
   "cell_type": "markdown",
   "metadata": {},
   "source": [
    "### Research Objectives"
   ]
  },
  {
   "cell_type": "code",
   "execution_count": 6,
   "metadata": {},
   "outputs": [],
   "source": [
    "#code here"
   ]
  },
  {
   "cell_type": "markdown",
   "metadata": {},
   "source": [
    "### Scopes and Limitations"
   ]
  },
  {
   "cell_type": "code",
   "execution_count": 7,
   "metadata": {},
   "outputs": [],
   "source": [
    "#code here"
   ]
  },
  {
   "cell_type": "markdown",
   "metadata": {},
   "source": [
    "---"
   ]
  },
  {
   "cell_type": "markdown",
   "metadata": {},
   "source": [
    "## Data Preparation"
   ]
  },
  {
   "cell_type": "code",
   "execution_count": 15,
   "metadata": {},
   "outputs": [],
   "source": [
    "# code here"
   ]
  },
  {
   "cell_type": "markdown",
   "metadata": {},
   "source": [
    "### Get sets of genres (Musix) "
   ]
  },
  {
   "cell_type": "code",
   "execution_count": 16,
   "metadata": {},
   "outputs": [],
   "source": [
    "# code here"
   ]
  },
  {
   "cell_type": "markdown",
   "metadata": {},
   "source": [
    "### Get list of Filipino songs filtered by genres \n",
    "Year: 2011-2020"
   ]
  },
  {
   "cell_type": "code",
   "execution_count": 17,
   "metadata": {},
   "outputs": [],
   "source": [
    "# code here"
   ]
  },
  {
   "cell_type": "markdown",
   "metadata": {},
   "source": [
    "### Generate `.csv` files\n",
    "(1 malaking DataFrame -> 1 DataFrame = 1 genre"
   ]
  },
  {
   "cell_type": "code",
   "execution_count": 18,
   "metadata": {},
   "outputs": [],
   "source": [
    "# code here"
   ]
  },
  {
   "cell_type": "markdown",
   "metadata": {},
   "source": [
    "### Get lyrics of each song via lyrics_id"
   ]
  },
  {
   "cell_type": "code",
   "execution_count": null,
   "metadata": {},
   "outputs": [],
   "source": [
    "# code here"
   ]
  },
  {
   "cell_type": "markdown",
   "metadata": {},
   "source": [
    "### Load files"
   ]
  },
  {
   "cell_type": "markdown",
   "metadata": {},
   "source": [
    "The files to be used for this study are the following:\n",
    "- `all_music.csv`\n",
    "- `alternative_music.csv`\n",
    "- `christian_music.csv`\n",
    "- `hiphop_music.csv`\n",
    "- `pop_music.csv`\n",
    "- `rbSoul_music.csv`\n",
    "- `rock_music.csv`"
   ]
  },
  {
   "cell_type": "code",
   "execution_count": 75,
   "metadata": {
    "scrolled": true
   },
   "outputs": [],
   "source": [
    "df = pd.read_csv('CSV Files/all_music.csv')\n",
    "df_alt = pd.read_csv('CSV Files/alternative_music.csv')\n",
    "df_chr = pd.read_csv('CSV Files/christian_music.csv')\n",
    "df_hphp = pd.read_csv('CSV Files/hiphop_music.csv')\n",
    "df_pop = pd.read_csv('CSV Files/pop_music.csv')\n",
    "df_rb = pd.read_csv('CSV Files/rbSoul_music.csv')\n",
    "df_rck = pd.read_csv('CSV Files/rock_music.csv')"
   ]
  },
  {
   "cell_type": "markdown",
   "metadata": {},
   "source": [
    "---"
   ]
  },
  {
   "cell_type": "markdown",
   "metadata": {},
   "source": [
    "## Initial Exploratory Data Analysis"
   ]
  },
  {
   "cell_type": "code",
   "execution_count": null,
   "metadata": {},
   "outputs": [],
   "source": []
  },
  {
   "cell_type": "markdown",
   "metadata": {},
   "source": [
    "### Number of songs per genre (percentage)"
   ]
  },
  {
   "cell_type": "code",
   "execution_count": null,
   "metadata": {},
   "outputs": [],
   "source": [
    "# code here"
   ]
  },
  {
   "cell_type": "markdown",
   "metadata": {},
   "source": [
    "### Frequent Artists"
   ]
  },
  {
   "cell_type": "code",
   "execution_count": null,
   "metadata": {},
   "outputs": [],
   "source": [
    "# code here"
   ]
  },
  {
   "cell_type": "markdown",
   "metadata": {},
   "source": [
    "### Word Counts (Top N words)"
   ]
  },
  {
   "cell_type": "code",
   "execution_count": 8,
   "metadata": {},
   "outputs": [],
   "source": [
    "# code here"
   ]
  },
  {
   "cell_type": "markdown",
   "metadata": {},
   "source": [
    "### Release Date"
   ]
  },
  {
   "cell_type": "code",
   "execution_count": 9,
   "metadata": {},
   "outputs": [],
   "source": [
    "# code here"
   ]
  },
  {
   "cell_type": "markdown",
   "metadata": {},
   "source": [
    "### Average Length of Song Lyrics"
   ]
  },
  {
   "cell_type": "code",
   "execution_count": 76,
   "metadata": {},
   "outputs": [
    {
     "data": {
      "text/html": [
       "<div>\n",
       "<style scoped>\n",
       "    .dataframe tbody tr th:only-of-type {\n",
       "        vertical-align: middle;\n",
       "    }\n",
       "\n",
       "    .dataframe tbody tr th {\n",
       "        vertical-align: top;\n",
       "    }\n",
       "\n",
       "    .dataframe thead th {\n",
       "        text-align: right;\n",
       "    }\n",
       "</style>\n",
       "<table border=\"1\" class=\"dataframe\">\n",
       "  <thead>\n",
       "    <tr style=\"text-align: right;\">\n",
       "      <th></th>\n",
       "      <th>Unnamed: 0</th>\n",
       "      <th>track_id</th>\n",
       "      <th>track_name</th>\n",
       "      <th>genre_id</th>\n",
       "      <th>genre_names</th>\n",
       "      <th>lyrics</th>\n",
       "      <th>artist_name</th>\n",
       "      <th>Unnamed: 0.1</th>\n",
       "    </tr>\n",
       "  </thead>\n",
       "  <tbody>\n",
       "    <tr>\n",
       "      <th>0</th>\n",
       "      <td>0</td>\n",
       "      <td>163709256</td>\n",
       "      <td>Ikaw At Ako</td>\n",
       "      <td>['14']</td>\n",
       "      <td>['Pop']</td>\n",
       "      <td>Sabi nila\\nBalang araw darating\\nAng i'yong ta...</td>\n",
       "      <td>NaN</td>\n",
       "      <td>NaN</td>\n",
       "    </tr>\n",
       "    <tr>\n",
       "      <th>1</th>\n",
       "      <td>1</td>\n",
       "      <td>167116583</td>\n",
       "      <td>Hanggang Dito Na Lang</td>\n",
       "      <td>['14']</td>\n",
       "      <td>['Pop']</td>\n",
       "      <td>'Di ko alam kung tama ba ito\\nLilisan ako upan...</td>\n",
       "      <td>NaN</td>\n",
       "      <td>NaN</td>\n",
       "    </tr>\n",
       "    <tr>\n",
       "      <th>2</th>\n",
       "      <td>2</td>\n",
       "      <td>114473971</td>\n",
       "      <td>Ikaw</td>\n",
       "      <td>['14']</td>\n",
       "      <td>['Pop']</td>\n",
       "      <td>Sa pagpatak ng bawat oras ay ikaw\\nAng iniisip...</td>\n",
       "      <td>NaN</td>\n",
       "      <td>NaN</td>\n",
       "    </tr>\n",
       "    <tr>\n",
       "      <th>3</th>\n",
       "      <td>3</td>\n",
       "      <td>114797567</td>\n",
       "      <td>Chinito</td>\n",
       "      <td>['14']</td>\n",
       "      <td>['Pop']</td>\n",
       "      <td>Napapansin mo ba\\nKaya ang tulad ko\\nKahit nas...</td>\n",
       "      <td>NaN</td>\n",
       "      <td>NaN</td>\n",
       "    </tr>\n",
       "    <tr>\n",
       "      <th>4</th>\n",
       "      <td>4</td>\n",
       "      <td>170308366</td>\n",
       "      <td>Ba'T Gano'N? (Theme From the Movie \"Family His...</td>\n",
       "      <td>['34', '14']</td>\n",
       "      <td>['Music', 'Pop']</td>\n",
       "      <td>NaN</td>\n",
       "      <td>NaN</td>\n",
       "      <td>NaN</td>\n",
       "    </tr>\n",
       "    <tr>\n",
       "      <th>...</th>\n",
       "      <td>...</td>\n",
       "      <td>...</td>\n",
       "      <td>...</td>\n",
       "      <td>...</td>\n",
       "      <td>...</td>\n",
       "      <td>...</td>\n",
       "      <td>...</td>\n",
       "      <td>...</td>\n",
       "    </tr>\n",
       "    <tr>\n",
       "      <th>1189</th>\n",
       "      <td>1189</td>\n",
       "      <td>74789949</td>\n",
       "      <td>Bakit Kailangan Mag-Pray?</td>\n",
       "      <td>[22]</td>\n",
       "      <td>['Christian &amp; Gospel']</td>\n",
       "      <td>NaN</td>\n",
       "      <td>Musikatha Kids</td>\n",
       "      <td>NaN</td>\n",
       "    </tr>\n",
       "    <tr>\n",
       "      <th>1190</th>\n",
       "      <td>1190</td>\n",
       "      <td>200856862</td>\n",
       "      <td>Tagpuan</td>\n",
       "      <td>[14, 22]</td>\n",
       "      <td>['Pop', 'Christian &amp; Gospel']</td>\n",
       "      <td>NaN</td>\n",
       "      <td>Jay Tolentino</td>\n",
       "      <td>NaN</td>\n",
       "    </tr>\n",
       "    <tr>\n",
       "      <th>1191</th>\n",
       "      <td>1191</td>\n",
       "      <td>79505192</td>\n",
       "      <td>Tayo's Sumamba</td>\n",
       "      <td>[22]</td>\n",
       "      <td>['Christian &amp; Gospel']</td>\n",
       "      <td>NaN</td>\n",
       "      <td>Tony Rodeo</td>\n",
       "      <td>NaN</td>\n",
       "    </tr>\n",
       "    <tr>\n",
       "      <th>1192</th>\n",
       "      <td>1192</td>\n",
       "      <td>131978085</td>\n",
       "      <td>Biyayang Ganap</td>\n",
       "      <td>[22]</td>\n",
       "      <td>['Christian &amp; Gospel']</td>\n",
       "      <td>NaN</td>\n",
       "      <td>Faithmusic Manila</td>\n",
       "      <td>NaN</td>\n",
       "    </tr>\n",
       "    <tr>\n",
       "      <th>1193</th>\n",
       "      <td>1193</td>\n",
       "      <td>93080375</td>\n",
       "      <td>Alay Ko Ay Pagpupuri</td>\n",
       "      <td>[22]</td>\n",
       "      <td>['Christian &amp; Gospel']</td>\n",
       "      <td>NaN</td>\n",
       "      <td>Tony Rodeo</td>\n",
       "      <td>NaN</td>\n",
       "    </tr>\n",
       "  </tbody>\n",
       "</table>\n",
       "<p>1194 rows × 8 columns</p>\n",
       "</div>"
      ],
      "text/plain": [
       "      Unnamed: 0   track_id  \\\n",
       "0              0  163709256   \n",
       "1              1  167116583   \n",
       "2              2  114473971   \n",
       "3              3  114797567   \n",
       "4              4  170308366   \n",
       "...          ...        ...   \n",
       "1189        1189   74789949   \n",
       "1190        1190  200856862   \n",
       "1191        1191   79505192   \n",
       "1192        1192  131978085   \n",
       "1193        1193   93080375   \n",
       "\n",
       "                                             track_name      genre_id  \\\n",
       "0                                           Ikaw At Ako        ['14']   \n",
       "1                                 Hanggang Dito Na Lang        ['14']   \n",
       "2                                                  Ikaw        ['14']   \n",
       "3                                               Chinito        ['14']   \n",
       "4     Ba'T Gano'N? (Theme From the Movie \"Family His...  ['34', '14']   \n",
       "...                                                 ...           ...   \n",
       "1189                          Bakit Kailangan Mag-Pray?          [22]   \n",
       "1190                                            Tagpuan      [14, 22]   \n",
       "1191                                     Tayo's Sumamba          [22]   \n",
       "1192                                     Biyayang Ganap          [22]   \n",
       "1193                               Alay Ko Ay Pagpupuri          [22]   \n",
       "\n",
       "                        genre_names  \\\n",
       "0                           ['Pop']   \n",
       "1                           ['Pop']   \n",
       "2                           ['Pop']   \n",
       "3                           ['Pop']   \n",
       "4                  ['Music', 'Pop']   \n",
       "...                             ...   \n",
       "1189         ['Christian & Gospel']   \n",
       "1190  ['Pop', 'Christian & Gospel']   \n",
       "1191         ['Christian & Gospel']   \n",
       "1192         ['Christian & Gospel']   \n",
       "1193         ['Christian & Gospel']   \n",
       "\n",
       "                                                 lyrics        artist_name  \\\n",
       "0     Sabi nila\\nBalang araw darating\\nAng i'yong ta...                NaN   \n",
       "1     'Di ko alam kung tama ba ito\\nLilisan ako upan...                NaN   \n",
       "2     Sa pagpatak ng bawat oras ay ikaw\\nAng iniisip...                NaN   \n",
       "3     Napapansin mo ba\\nKaya ang tulad ko\\nKahit nas...                NaN   \n",
       "4                                                   NaN                NaN   \n",
       "...                                                 ...                ...   \n",
       "1189                                                NaN     Musikatha Kids   \n",
       "1190                                                NaN      Jay Tolentino   \n",
       "1191                                                NaN         Tony Rodeo   \n",
       "1192                                                NaN  Faithmusic Manila   \n",
       "1193                                                NaN         Tony Rodeo   \n",
       "\n",
       "      Unnamed: 0.1  \n",
       "0              NaN  \n",
       "1              NaN  \n",
       "2              NaN  \n",
       "3              NaN  \n",
       "4              NaN  \n",
       "...            ...  \n",
       "1189           NaN  \n",
       "1190           NaN  \n",
       "1191           NaN  \n",
       "1192           NaN  \n",
       "1193           NaN  \n",
       "\n",
       "[1194 rows x 8 columns]"
      ]
     },
     "execution_count": 76,
     "metadata": {},
     "output_type": "execute_result"
    }
   ],
   "source": [
    "df"
   ]
  },
  {
   "cell_type": "code",
   "execution_count": 77,
   "metadata": {},
   "outputs": [
    {
     "data": {
      "text/html": [
       "<div>\n",
       "<style scoped>\n",
       "    .dataframe tbody tr th:only-of-type {\n",
       "        vertical-align: middle;\n",
       "    }\n",
       "\n",
       "    .dataframe tbody tr th {\n",
       "        vertical-align: top;\n",
       "    }\n",
       "\n",
       "    .dataframe thead th {\n",
       "        text-align: right;\n",
       "    }\n",
       "</style>\n",
       "<table border=\"1\" class=\"dataframe\">\n",
       "  <thead>\n",
       "    <tr style=\"text-align: right;\">\n",
       "      <th></th>\n",
       "      <th>artist_name</th>\n",
       "      <th>genre_names</th>\n",
       "      <th>lyrics</th>\n",
       "    </tr>\n",
       "  </thead>\n",
       "  <tbody>\n",
       "    <tr>\n",
       "      <th>0</th>\n",
       "      <td>NaN</td>\n",
       "      <td>'Pop'</td>\n",
       "      <td>Sabi nila\\nBalang araw darating\\nAng i'yong ta...</td>\n",
       "    </tr>\n",
       "    <tr>\n",
       "      <th>1</th>\n",
       "      <td>NaN</td>\n",
       "      <td>'Pop'</td>\n",
       "      <td>'Di ko alam kung tama ba ito\\nLilisan ako upan...</td>\n",
       "    </tr>\n",
       "    <tr>\n",
       "      <th>2</th>\n",
       "      <td>NaN</td>\n",
       "      <td>'Pop'</td>\n",
       "      <td>Sa pagpatak ng bawat oras ay ikaw\\nAng iniisip...</td>\n",
       "    </tr>\n",
       "    <tr>\n",
       "      <th>3</th>\n",
       "      <td>NaN</td>\n",
       "      <td>'Pop'</td>\n",
       "      <td>Napapansin mo ba\\nKaya ang tulad ko\\nKahit nas...</td>\n",
       "    </tr>\n",
       "    <tr>\n",
       "      <th>4</th>\n",
       "      <td>NaN</td>\n",
       "      <td>'Music' 'Pop'</td>\n",
       "      <td>NaN</td>\n",
       "    </tr>\n",
       "    <tr>\n",
       "      <th>...</th>\n",
       "      <td>...</td>\n",
       "      <td>...</td>\n",
       "      <td>...</td>\n",
       "    </tr>\n",
       "    <tr>\n",
       "      <th>1189</th>\n",
       "      <td>Musikatha Kids</td>\n",
       "      <td>'Christian &amp; Gospel'</td>\n",
       "      <td>NaN</td>\n",
       "    </tr>\n",
       "    <tr>\n",
       "      <th>1190</th>\n",
       "      <td>Jay Tolentino</td>\n",
       "      <td>'Pop' 'Christian &amp; Gospel'</td>\n",
       "      <td>NaN</td>\n",
       "    </tr>\n",
       "    <tr>\n",
       "      <th>1191</th>\n",
       "      <td>Tony Rodeo</td>\n",
       "      <td>'Christian &amp; Gospel'</td>\n",
       "      <td>NaN</td>\n",
       "    </tr>\n",
       "    <tr>\n",
       "      <th>1192</th>\n",
       "      <td>Faithmusic Manila</td>\n",
       "      <td>'Christian &amp; Gospel'</td>\n",
       "      <td>NaN</td>\n",
       "    </tr>\n",
       "    <tr>\n",
       "      <th>1193</th>\n",
       "      <td>Tony Rodeo</td>\n",
       "      <td>'Christian &amp; Gospel'</td>\n",
       "      <td>NaN</td>\n",
       "    </tr>\n",
       "  </tbody>\n",
       "</table>\n",
       "<p>1194 rows × 3 columns</p>\n",
       "</div>"
      ],
      "text/plain": [
       "            artist_name                 genre_names  \\\n",
       "0                   NaN                       'Pop'   \n",
       "1                   NaN                       'Pop'   \n",
       "2                   NaN                       'Pop'   \n",
       "3                   NaN                       'Pop'   \n",
       "4                   NaN               'Music' 'Pop'   \n",
       "...                 ...                         ...   \n",
       "1189     Musikatha Kids        'Christian & Gospel'   \n",
       "1190      Jay Tolentino  'Pop' 'Christian & Gospel'   \n",
       "1191         Tony Rodeo        'Christian & Gospel'   \n",
       "1192  Faithmusic Manila        'Christian & Gospel'   \n",
       "1193         Tony Rodeo        'Christian & Gospel'   \n",
       "\n",
       "                                                 lyrics  \n",
       "0     Sabi nila\\nBalang araw darating\\nAng i'yong ta...  \n",
       "1     'Di ko alam kung tama ba ito\\nLilisan ako upan...  \n",
       "2     Sa pagpatak ng bawat oras ay ikaw\\nAng iniisip...  \n",
       "3     Napapansin mo ba\\nKaya ang tulad ko\\nKahit nas...  \n",
       "4                                                   NaN  \n",
       "...                                                 ...  \n",
       "1189                                                NaN  \n",
       "1190                                                NaN  \n",
       "1191                                                NaN  \n",
       "1192                                                NaN  \n",
       "1193                                                NaN  \n",
       "\n",
       "[1194 rows x 3 columns]"
      ]
     },
     "execution_count": 77,
     "metadata": {},
     "output_type": "execute_result"
    }
   ],
   "source": [
    "## remove character occurrences ##\n",
    "df_avg_l = df[['artist_name','genre_names', 'lyrics']].copy()\n",
    "df_avg_l['genre_names'] = df_avg_l['genre_names'].str.replace('[', '')\n",
    "df_avg_l['genre_names'] = df_avg_l['genre_names'].str.replace(']', '')\n",
    "df_avg_l['genre_names'] = df_avg_l['genre_names'].str.replace(',', '')\n",
    "df_avg_l"
   ]
  },
  {
   "cell_type": "code",
   "execution_count": 78,
   "metadata": {},
   "outputs": [],
   "source": [
    "## create multiple rows based on genre_names ##\n",
    "temp = df_avg_l['genre_names'].str.split(\"' '\").apply(pd.Series, 1).stack()\n",
    "temp.index = temp.index.droplevel(-1)\n",
    "temp.name = 'genre_names'\n",
    "temp\n",
    "\n",
    "del df_avg_l['genre_names']\n",
    "df_avg_l = df_avg_l.join(temp)\n",
    "\n",
    "## remove occurence of \"'\" ##\n",
    "df_avg_l['genre_names'] = df_avg_l['genre_names'].str.replace(\"'\", '')"
   ]
  },
  {
   "cell_type": "code",
   "execution_count": 79,
   "metadata": {},
   "outputs": [
    {
     "data": {
      "text/html": [
       "<div>\n",
       "<style scoped>\n",
       "    .dataframe tbody tr th:only-of-type {\n",
       "        vertical-align: middle;\n",
       "    }\n",
       "\n",
       "    .dataframe tbody tr th {\n",
       "        vertical-align: top;\n",
       "    }\n",
       "\n",
       "    .dataframe thead th {\n",
       "        text-align: right;\n",
       "    }\n",
       "</style>\n",
       "<table border=\"1\" class=\"dataframe\">\n",
       "  <thead>\n",
       "    <tr style=\"text-align: right;\">\n",
       "      <th></th>\n",
       "      <th>artist_name</th>\n",
       "      <th>lyrics</th>\n",
       "      <th>genre_names</th>\n",
       "    </tr>\n",
       "  </thead>\n",
       "  <tbody>\n",
       "    <tr>\n",
       "      <th>0</th>\n",
       "      <td>NaN</td>\n",
       "      <td>Sabi nila\\nBalang araw darating\\nAng i'yong ta...</td>\n",
       "      <td>Pop</td>\n",
       "    </tr>\n",
       "    <tr>\n",
       "      <th>1</th>\n",
       "      <td>NaN</td>\n",
       "      <td>'Di ko alam kung tama ba ito\\nLilisan ako upan...</td>\n",
       "      <td>Pop</td>\n",
       "    </tr>\n",
       "    <tr>\n",
       "      <th>2</th>\n",
       "      <td>NaN</td>\n",
       "      <td>Sa pagpatak ng bawat oras ay ikaw\\nAng iniisip...</td>\n",
       "      <td>Pop</td>\n",
       "    </tr>\n",
       "    <tr>\n",
       "      <th>3</th>\n",
       "      <td>NaN</td>\n",
       "      <td>Napapansin mo ba\\nKaya ang tulad ko\\nKahit nas...</td>\n",
       "      <td>Pop</td>\n",
       "    </tr>\n",
       "    <tr>\n",
       "      <th>4</th>\n",
       "      <td>NaN</td>\n",
       "      <td>NaN</td>\n",
       "      <td>Music</td>\n",
       "    </tr>\n",
       "    <tr>\n",
       "      <th>...</th>\n",
       "      <td>...</td>\n",
       "      <td>...</td>\n",
       "      <td>...</td>\n",
       "    </tr>\n",
       "    <tr>\n",
       "      <th>1190</th>\n",
       "      <td>Jay Tolentino</td>\n",
       "      <td>NaN</td>\n",
       "      <td>Pop</td>\n",
       "    </tr>\n",
       "    <tr>\n",
       "      <th>1190</th>\n",
       "      <td>Jay Tolentino</td>\n",
       "      <td>NaN</td>\n",
       "      <td>Christian &amp; Gospel</td>\n",
       "    </tr>\n",
       "    <tr>\n",
       "      <th>1191</th>\n",
       "      <td>Tony Rodeo</td>\n",
       "      <td>NaN</td>\n",
       "      <td>Christian &amp; Gospel</td>\n",
       "    </tr>\n",
       "    <tr>\n",
       "      <th>1192</th>\n",
       "      <td>Faithmusic Manila</td>\n",
       "      <td>NaN</td>\n",
       "      <td>Christian &amp; Gospel</td>\n",
       "    </tr>\n",
       "    <tr>\n",
       "      <th>1193</th>\n",
       "      <td>Tony Rodeo</td>\n",
       "      <td>NaN</td>\n",
       "      <td>Christian &amp; Gospel</td>\n",
       "    </tr>\n",
       "  </tbody>\n",
       "</table>\n",
       "<p>1408 rows × 3 columns</p>\n",
       "</div>"
      ],
      "text/plain": [
       "            artist_name                                             lyrics  \\\n",
       "0                   NaN  Sabi nila\\nBalang araw darating\\nAng i'yong ta...   \n",
       "1                   NaN  'Di ko alam kung tama ba ito\\nLilisan ako upan...   \n",
       "2                   NaN  Sa pagpatak ng bawat oras ay ikaw\\nAng iniisip...   \n",
       "3                   NaN  Napapansin mo ba\\nKaya ang tulad ko\\nKahit nas...   \n",
       "4                   NaN                                                NaN   \n",
       "...                 ...                                                ...   \n",
       "1190      Jay Tolentino                                                NaN   \n",
       "1190      Jay Tolentino                                                NaN   \n",
       "1191         Tony Rodeo                                                NaN   \n",
       "1192  Faithmusic Manila                                                NaN   \n",
       "1193         Tony Rodeo                                                NaN   \n",
       "\n",
       "             genre_names  \n",
       "0                    Pop  \n",
       "1                    Pop  \n",
       "2                    Pop  \n",
       "3                    Pop  \n",
       "4                  Music  \n",
       "...                  ...  \n",
       "1190                 Pop  \n",
       "1190  Christian & Gospel  \n",
       "1191  Christian & Gospel  \n",
       "1192  Christian & Gospel  \n",
       "1193  Christian & Gospel  \n",
       "\n",
       "[1408 rows x 3 columns]"
      ]
     },
     "execution_count": 79,
     "metadata": {},
     "output_type": "execute_result"
    }
   ],
   "source": [
    "df_avg_l"
   ]
  },
  {
   "cell_type": "markdown",
   "metadata": {},
   "source": [
    "### Average Length of Song Lyrics x Genres"
   ]
  },
  {
   "cell_type": "code",
   "execution_count": 11,
   "metadata": {},
   "outputs": [],
   "source": [
    "# code here"
   ]
  },
  {
   "cell_type": "markdown",
   "metadata": {},
   "source": [
    "### Average Length of Song Lyrcis x Artists"
   ]
  },
  {
   "cell_type": "code",
   "execution_count": 12,
   "metadata": {},
   "outputs": [],
   "source": [
    "# code here"
   ]
  },
  {
   "cell_type": "markdown",
   "metadata": {},
   "source": [
    "### Genres per year"
   ]
  },
  {
   "cell_type": "code",
   "execution_count": 13,
   "metadata": {},
   "outputs": [],
   "source": [
    "# code here"
   ]
  },
  {
   "cell_type": "markdown",
   "metadata": {},
   "source": [
    "### Length of song per year"
   ]
  },
  {
   "cell_type": "code",
   "execution_count": null,
   "metadata": {},
   "outputs": [],
   "source": [
    "# code here"
   ]
  }
 ],
 "metadata": {
  "kernelspec": {
   "display_name": "Python 3",
   "language": "python",
   "name": "python3"
  },
  "language_info": {
   "codemirror_mode": {
    "name": "ipython",
    "version": 3
   },
   "file_extension": ".py",
   "mimetype": "text/x-python",
   "name": "python",
   "nbconvert_exporter": "python",
   "pygments_lexer": "ipython3",
   "version": "3.8.3"
  }
 },
 "nbformat": 4,
 "nbformat_minor": 4
}
