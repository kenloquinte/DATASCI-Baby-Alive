{
 "cells": [
  {
   "cell_type": "markdown",
   "metadata": {},
   "source": [
    "# DATASCI Final Project Title"
   ]
  },
  {
   "cell_type": "markdown",
   "metadata": {},
   "source": [
    "Group: Baby Alive!\n",
    "\n",
    "Members:\n",
    "    Benedictos,\n",
    "    Loquinte,\n",
    "    Marasigan,\n",
    "    Masilang,\n",
    "    Tejada"
   ]
  },
  {
   "cell_type": "code",
   "execution_count": null,
   "metadata": {},
   "outputs": [],
   "source": [
    "import os\n",
    "import math\n",
    "import pandas as pd\n",
    "import numpy as np\n",
    "import matplotlib.pyplot as plt\n",
    "import seaborn as sns\n",
    "\n",
    "from scipy.stats import zscore\n",
    "from sklearn.feature_extraction.text import CountVectorizer\n",
    "\n",
    "%pylab inline"
   ]
  },
  {
   "cell_type": "markdown",
   "metadata": {},
   "source": [
    "### Musixmatch API Library"
   ]
  },
  {
   "cell_type": "markdown",
   "metadata": {},
   "source": [
    "- describe API Library"
   ]
  },
  {
   "cell_type": "markdown",
   "metadata": {},
   "source": [
    "### Azapi"
   ]
  },
  {
   "cell_type": "markdown",
   "metadata": {},
   "source": [
    "Azapi is an API by Khaled ElMorshedy (https://github.com/elmoiv) for AZLyrics.com to get the lyrics of a song. This will be used by the researchers to collect the complete lyrics of the songs the researchers got from the Musixmatch API. Azapi can be accessed through the link https://github.com/elmoiv/azapi"
   ]
  },
  {
   "cell_type": "code",
   "execution_count": null,
   "metadata": {},
   "outputs": [],
   "source": [
    "#code here"
   ]
  },
  {
   "cell_type": "markdown",
   "metadata": {},
   "source": [
    "### Research Objectives"
   ]
  },
  {
   "cell_type": "code",
   "execution_count": null,
   "metadata": {},
   "outputs": [],
   "source": [
    "#code here"
   ]
  },
  {
   "cell_type": "markdown",
   "metadata": {},
   "source": [
    "### Scopes and Limitations"
   ]
  },
  {
   "cell_type": "code",
   "execution_count": null,
   "metadata": {},
   "outputs": [],
   "source": [
    "#code here"
   ]
  },
  {
   "cell_type": "markdown",
   "metadata": {},
   "source": [
    "---"
   ]
  },
  {
   "cell_type": "markdown",
   "metadata": {},
   "source": [
    "## Data Preparation"
   ]
  },
  {
   "cell_type": "code",
   "execution_count": null,
   "metadata": {},
   "outputs": [],
   "source": [
    "# code here"
   ]
  },
  {
   "cell_type": "markdown",
   "metadata": {},
   "source": [
    "### Get sets of genres (Musix) "
   ]
  },
  {
   "cell_type": "code",
   "execution_count": null,
   "metadata": {},
   "outputs": [],
   "source": [
    "# code here"
   ]
  },
  {
   "cell_type": "markdown",
   "metadata": {},
   "source": [
    "### Get list of Filipino songs filtered by genres \n",
    "Year: 2011-2020"
   ]
  },
  {
   "cell_type": "code",
   "execution_count": null,
   "metadata": {},
   "outputs": [],
   "source": [
    "# code here"
   ]
  },
  {
   "cell_type": "markdown",
   "metadata": {},
   "source": [
    "### Generate `.csv` files\n",
    "(1 malaking DataFrame -> 1 DataFrame = 1 genre"
   ]
  },
  {
   "cell_type": "code",
   "execution_count": null,
   "metadata": {},
   "outputs": [],
   "source": [
    "# code here"
   ]
  },
  {
   "cell_type": "markdown",
   "metadata": {},
   "source": [
    "### Get lyrics of each song via lyrics_id"
   ]
  },
  {
   "cell_type": "code",
   "execution_count": null,
   "metadata": {},
   "outputs": [],
   "source": [
    "# code here"
   ]
  },
  {
   "cell_type": "markdown",
   "metadata": {},
   "source": [
    "### Load files"
   ]
  },
  {
   "cell_type": "markdown",
   "metadata": {},
   "source": [
    "The files to be used for this study are the following:\n",
    "- `all_music.csv`\n",
    "- `alternative_music.csv`\n",
    "- `christian_music.csv`\n",
    "- `hiphop_music.csv`\n",
    "- `pop_music.csv`\n",
    "- `rbSoul_music.csv`\n",
    "- `rock_music.csv`"
   ]
  },
  {
   "cell_type": "code",
   "execution_count": null,
   "metadata": {
    "scrolled": true
   },
   "outputs": [],
   "source": [
    "df = pd.read_csv('CSV Files/all_music.csv')\n",
    "df_alt = pd.read_csv('CSV Files/alternative_music.csv')\n",
    "df_chr = pd.read_csv('CSV Files/christian_music.csv')\n",
    "df_hphp = pd.read_csv('CSV Files/hiphop_music.csv')\n",
    "df_pop = pd.read_csv('CSV Files/pop_music.csv')\n",
    "df_rb = pd.read_csv('CSV Files/rbSoul_music.csv')\n",
    "df_rck = pd.read_csv('CSV Files/rock_music.csv')"
   ]
  },
  {
   "cell_type": "markdown",
   "metadata": {},
   "source": [
    "---"
   ]
  },
  {
   "cell_type": "markdown",
   "metadata": {},
   "source": [
    "## Initial Exploratory Data Analysis"
   ]
  },
  {
   "cell_type": "code",
   "execution_count": null,
   "metadata": {},
   "outputs": [],
   "source": [
    "df"
   ]
  },
  {
   "cell_type": "markdown",
   "metadata": {},
   "source": [
    "### Number of songs per genre"
   ]
  },
  {
   "cell_type": "markdown",
   "metadata": {},
   "source": [
    "First we look into the composition of the dataset in terms of genres. For this part, we are not counting multiple genres of a song as individual labels. Therefore, if one song's genre is both _Alternative_ and _Pop_, it will fall under the label _Alternative, Pop_."
   ]
  },
  {
   "cell_type": "code",
   "execution_count": null,
   "metadata": {},
   "outputs": [],
   "source": [
    "primary_genres = df[\"genre_names\"].value_counts().rename_axis('Genres').reset_index(name='Number of Songs')\n",
    "primary_genres = primary_genres.nlargest(10, 'Number of Songs')\n",
    "primary_genres[\"Genres\"] = primary_genres[\"Genres\"].str.replace('[\\[\\]\\']', '', regex=True) #remove brackets and quotes \n",
    "\n",
    "primary_genres_plot = sns.catplot(y=\"Genres\", x=\"Number of Songs\", kind=\"bar\", data=primary_genres)"
   ]
  },
  {
   "cell_type": "markdown",
   "metadata": {},
   "source": [
    "#### OBSERVATION HERE"
   ]
  },
  {
   "cell_type": "markdown",
   "metadata": {},
   "source": [
    "Next, we consider each genre in a multiple-genred song as their own individual labels. Therefore -- using the example a while ago -- if a song's genre is both _Alternative_ and _Pop_, it will now fall under both the _Alternative_ label and the _Pop_ label."
   ]
  },
  {
   "cell_type": "markdown",
   "metadata": {},
   "source": [
    "To be able to count the frequency of each individual genre, the `genre_names` column must be converted into a matrix table where each row contains all genres of a single song, and each column contains a single genre of that song (e.g. if a song has two genres, then each will have their corresponding columns).\n",
    "\n",
    "To split the genres, we use the fact that the multiple genres are separated by commas. We also remove unnecessary characters like brackets and apostrophes. "
   ]
  },
  {
   "cell_type": "code",
   "execution_count": null,
   "metadata": {},
   "outputs": [],
   "source": [
    "genres_series = df['genre_names'].replace(\"[\\[\\]\\']\", '', regex=True)\n",
    "genres_matrix = []\n",
    "\n",
    "for string in genres_series:\n",
    "    split_str = string.split(', ')\n",
    "    genres_matrix.append(split_str)\n",
    "\n",
    "genres_df = pd.DataFrame(genres_matrix)\n",
    "genres_df"
   ]
  },
  {
   "cell_type": "markdown",
   "metadata": {},
   "source": [
    "We see that the resulting table has 4 columns which means that there are, at most, 4 genres in a single song. To check which songs these are, we can just check whether it has a value at the 4th column. "
   ]
  },
  {
   "cell_type": "code",
   "execution_count": null,
   "metadata": {},
   "outputs": [],
   "source": [
    "genres_df[~genres_df.iloc[:, 3].isnull()]"
   ]
  },
  {
   "cell_type": "code",
   "execution_count": null,
   "metadata": {},
   "outputs": [],
   "source": [
    "df.iloc[[38,573]]"
   ]
  },
  {
   "cell_type": "markdown",
   "metadata": {},
   "source": [
    "### Observations here"
   ]
  },
  {
   "cell_type": "markdown",
   "metadata": {},
   "source": [
    "Next, we just concatenate all of these values into a single list and use this to get the count of each individual genres in the dataset."
   ]
  },
  {
   "cell_type": "code",
   "execution_count": null,
   "metadata": {},
   "outputs": [],
   "source": [
    "genres_list = pd.concat([genres_df[0], genres_df[1], genres_df[2]])\n",
    "genres_list.dropna(inplace = True)\n",
    "genres_list"
   ]
  },
  {
   "cell_type": "code",
   "execution_count": null,
   "metadata": {},
   "outputs": [],
   "source": [
    "unique_genres = genres_list.value_counts().rename_axis('Genres').reset_index(name='Number of Songs')\n",
    "\n",
    "unique_genres = unique_genres.nlargest(10, 'Number of Songs')\n",
    "unique_genres_plot = sns.catplot(y=\"Genres\", x=\"Number of Songs\", kind=\"bar\", data=unique_genres)"
   ]
  },
  {
   "cell_type": "markdown",
   "metadata": {},
   "source": [
    "### Observations here"
   ]
  },
  {
   "cell_type": "markdown",
   "metadata": {},
   "source": [
    "### Word Counts (Top N words)"
   ]
  },
  {
   "cell_type": "markdown",
   "metadata": {},
   "source": [
    "Next, we count the frequency of each word in the corpus of lyrics that we have. For convenience, we utilize scikit-learn's CountVectorizer_."
   ]
  },
  {
   "cell_type": "code",
   "execution_count": null,
   "metadata": {},
   "outputs": [],
   "source": [
    "# vectorizer = CountVectorizer()\n",
    "# vocabulary = vectorizer.fit_transform([df_temp.iloc[0,6]])\n",
    "# print(vectorizer.get_feature_names())"
   ]
  },
  {
   "cell_type": "code",
   "execution_count": null,
   "metadata": {},
   "outputs": [],
   "source": [
    "# df_temp = df.dropna(subset=['lyrics'])\n",
    "# print(df_temp[df_temp['lyrics'].str.contains(\"\\\\b002737\\\\b\", regex=True)].iloc[0,6])\n",
    "# # print(df_temp.iloc[0, 6])\n",
    "# # df_temp"
   ]
  },
  {
   "cell_type": "code",
   "execution_count": null,
   "metadata": {
    "scrolled": true
   },
   "outputs": [],
   "source": [
    "corpus = df[\"lyrics\"].dropna()\n",
    "# df.loc[df[\"lyrics\"].notnull(), [\"lyrics\"]]\n",
    "\n",
    "words = \"Hello Philippines hello world\"\n",
    "\n",
    "print(corpus)\n",
    "\n",
    "vectorizer = CountVectorizer()\n",
    "\n",
    "matrix = vectorizer.fit_transform(corpus)\n",
    "# tokenizer = vectorizer.build_tokenizer()\n",
    "# tokenized = tokenizer(words)\n",
    "# len(tokenized)"
   ]
  },
  {
   "cell_type": "code",
   "execution_count": null,
   "metadata": {},
   "outputs": [],
   "source": [
    "counts = pd.DataFrame(matrix.toarray(),\n",
    "                      columns=vectorizer.get_feature_names())\n",
    "counts"
   ]
  },
  {
   "cell_type": "code",
   "execution_count": null,
   "metadata": {},
   "outputs": [],
   "source": [
    "word_count = counts.max().nlargest(20).reset_index(name = \"Count\").rename(columns={'index': 'Word'})\n",
    "\n",
    "word_count_plot = sns.catplot(y=\"Word\", x=\"Count\", orient=\"h\", kind=\"bar\", data=word_count)"
   ]
  },
  {
   "cell_type": "markdown",
   "metadata": {},
   "source": [
    "maybe also show results without english stop words..."
   ]
  },
  {
   "cell_type": "markdown",
   "metadata": {},
   "source": [
    "### Average Length of Song Lyrics"
   ]
  },
  {
   "cell_type": "code",
   "execution_count": null,
   "metadata": {},
   "outputs": [],
   "source": [
    "def count_words(text):\n",
    "\n",
    "    vectorizer = CountVectorizer()\n",
    "    matrix = vectorizer.fit_transform(text)\n",
    "    \n",
    "    return matrix.sum()"
   ]
  },
  {
   "cell_type": "code",
   "execution_count": null,
   "metadata": {},
   "outputs": [],
   "source": [
    "df_lyrics = df[[\"artist_name\", \"genre_names\", \"lyrics\"]].dropna()\n",
    "\n",
    "df_lyrics[\"count\"] = df_lyrics[\"lyrics\"].apply(lambda x: count_words([x]))\n",
    "df_lyrics"
   ]
  },
  {
   "cell_type": "code",
   "execution_count": null,
   "metadata": {},
   "outputs": [],
   "source": [
    "# remove outliers and other shits"
   ]
  },
  {
   "cell_type": "markdown",
   "metadata": {},
   "source": [
    "We can now get the average length of songs in our data."
   ]
  },
  {
   "cell_type": "code",
   "execution_count": null,
   "metadata": {},
   "outputs": [],
   "source": [
    "df_lyrics['count'].mean()"
   ]
  },
  {
   "cell_type": "markdown",
   "metadata": {},
   "source": [
    "### Average Length of Song Lyrics x Genres"
   ]
  },
  {
   "cell_type": "markdown",
   "metadata": {},
   "source": [
    "For this part, we will be using values under the genre_names column. In the genre_names column, if a song falls under 2 or more genres, the format of it's value under the genre_names column looks like this: **['genre1', 'genre2',..., 'genreN]**."
   ]
  },
  {
   "cell_type": "code",
   "execution_count": null,
   "metadata": {},
   "outputs": [],
   "source": [
    "## remove character occurrences ##\n",
    "df_lyrics['genre_names'] =  df_lyrics['genre_names'].replace(\"[\\[\\]\\']\", '', regex=True)\n",
    "df_lyrics.head(30)"
   ]
  },
  {
   "cell_type": "code",
   "execution_count": null,
   "metadata": {},
   "outputs": [],
   "source": [
    "## create multiple rows based on genre_names ##\n",
    "temp = df_lyrics['genre_names'].str.split(\", \").apply(pd.Series, 1).stack()\n",
    "temp.index = temp.index.droplevel(-1)\n",
    "temp.name = 'genre_names'\n",
    "temp\n",
    "\n",
    "del df_lyrics['genre_names']\n",
    "df_lyrics = df_lyrics.join(temp)\n"
   ]
  },
  {
   "cell_type": "code",
   "execution_count": null,
   "metadata": {},
   "outputs": [],
   "source": [
    "df_lyrics.head(30)"
   ]
  },
  {
   "cell_type": "code",
   "execution_count": null,
   "metadata": {},
   "outputs": [],
   "source": [
    "#get the mean for every genre\n",
    "genre_mean = df_lyrics.groupby('genre_names')['count'].mean()\n",
    "genre_mean"
   ]
  },
  {
   "cell_type": "code",
   "execution_count": null,
   "metadata": {},
   "outputs": [],
   "source": [
    "#create a dataframe for the result\n",
    "avg_genre=pd.DataFrame(genre_mean, columns=['genre_names','mean'])\n",
    "avg_genre['mean']=genre_mean\n",
    "\n",
    "#create a column for genre_names for plotting\n",
    "avg_genre['genre_names']=genre_mean.index\n",
    "avg_genre"
   ]
  },
  {
   "cell_type": "code",
   "execution_count": null,
   "metadata": {},
   "outputs": [],
   "source": [
    "avg_genre_plot = sns.catplot(y=\"genre_names\", x=\"mean\", orient=\"h\", kind=\"bar\", data=avg_genre)"
   ]
  },
  {
   "cell_type": "markdown",
   "metadata": {},
   "source": [
    "### Average Length of Song Lyrics x Artists"
   ]
  },
  {
   "cell_type": "code",
   "execution_count": null,
   "metadata": {},
   "outputs": [],
   "source": [
    "# code here"
   ]
  }
 ],
 "metadata": {
  "kernelspec": {
   "display_name": "Python 3",
   "language": "python",
   "name": "python3"
  },
  "language_info": {
   "codemirror_mode": {
    "name": "ipython",
    "version": 3
   },
   "file_extension": ".py",
   "mimetype": "text/x-python",
   "name": "python",
   "nbconvert_exporter": "python",
   "pygments_lexer": "ipython3",
   "version": "3.6.5"
  }
 },
 "nbformat": 4,
 "nbformat_minor": 4
}
